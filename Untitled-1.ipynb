{
 "cells": [
  {
   "cell_type": "code",
   "execution_count": null,
   "id": "8f7abd9e",
   "metadata": {},
   "outputs": [],
   "source": []
  }
 ],
 "metadata": {
  "language_info": {
   "name": "python"
  }
 },
 "nbformat": 4,
 "nbformat_minor": 5
}
